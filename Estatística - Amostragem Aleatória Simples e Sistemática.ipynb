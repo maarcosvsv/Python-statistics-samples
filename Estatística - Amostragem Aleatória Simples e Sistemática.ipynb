{
 "cells": [
  {
   "cell_type": "markdown",
   "id": "bea96c7b",
   "metadata": {},
   "source": [
    "Amostragem Aleatória Simples, com exemplos de: tamanho 4, tamanho 5 e proporção de 0.44"
   ]
  },
  {
   "cell_type": "code",
   "execution_count": 1,
   "id": "0e353e3a",
   "metadata": {},
   "outputs": [],
   "source": [
    "import pandas"
   ]
  },
  {
   "cell_type": "code",
   "execution_count": 2,
   "id": "cf569519",
   "metadata": {},
   "outputs": [],
   "source": [
    "populacao = [1,2,3,4,5,6,7,8,9,10,11,12]"
   ]
  },
  {
   "cell_type": "code",
   "execution_count": 3,
   "id": "744286b6",
   "metadata": {},
   "outputs": [
    {
     "data": {
      "text/html": [
       "<div>\n",
       "<style scoped>\n",
       "    .dataframe tbody tr th:only-of-type {\n",
       "        vertical-align: middle;\n",
       "    }\n",
       "\n",
       "    .dataframe tbody tr th {\n",
       "        vertical-align: top;\n",
       "    }\n",
       "\n",
       "    .dataframe thead th {\n",
       "        text-align: right;\n",
       "    }\n",
       "</style>\n",
       "<table border=\"1\" class=\"dataframe\">\n",
       "  <thead>\n",
       "    <tr style=\"text-align: right;\">\n",
       "      <th></th>\n",
       "      <th>values_populacao</th>\n",
       "    </tr>\n",
       "  </thead>\n",
       "  <tbody>\n",
       "    <tr>\n",
       "      <th>0</th>\n",
       "      <td>1</td>\n",
       "    </tr>\n",
       "    <tr>\n",
       "      <th>1</th>\n",
       "      <td>2</td>\n",
       "    </tr>\n",
       "    <tr>\n",
       "      <th>2</th>\n",
       "      <td>3</td>\n",
       "    </tr>\n",
       "    <tr>\n",
       "      <th>3</th>\n",
       "      <td>4</td>\n",
       "    </tr>\n",
       "    <tr>\n",
       "      <th>4</th>\n",
       "      <td>5</td>\n",
       "    </tr>\n",
       "    <tr>\n",
       "      <th>5</th>\n",
       "      <td>6</td>\n",
       "    </tr>\n",
       "    <tr>\n",
       "      <th>6</th>\n",
       "      <td>7</td>\n",
       "    </tr>\n",
       "    <tr>\n",
       "      <th>7</th>\n",
       "      <td>8</td>\n",
       "    </tr>\n",
       "    <tr>\n",
       "      <th>8</th>\n",
       "      <td>9</td>\n",
       "    </tr>\n",
       "    <tr>\n",
       "      <th>9</th>\n",
       "      <td>10</td>\n",
       "    </tr>\n",
       "    <tr>\n",
       "      <th>10</th>\n",
       "      <td>11</td>\n",
       "    </tr>\n",
       "    <tr>\n",
       "      <th>11</th>\n",
       "      <td>12</td>\n",
       "    </tr>\n",
       "  </tbody>\n",
       "</table>\n",
       "</div>"
      ],
      "text/plain": [
       "    values_populacao\n",
       "0                  1\n",
       "1                  2\n",
       "2                  3\n",
       "3                  4\n",
       "4                  5\n",
       "5                  6\n",
       "6                  7\n",
       "7                  8\n",
       "8                  9\n",
       "9                 10\n",
       "10                11\n",
       "11                12"
      ]
     },
     "execution_count": 3,
     "metadata": {},
     "output_type": "execute_result"
    }
   ],
   "source": [
    "df = pandas.DataFrame(populacao, columns = [\"values_populacao\"])\n",
    "df # Output console"
   ]
  },
  {
   "cell_type": "code",
   "execution_count": 4,
   "id": "93e145c2",
   "metadata": {},
   "outputs": [
    {
     "data": {
      "text/html": [
       "<div>\n",
       "<style scoped>\n",
       "    .dataframe tbody tr th:only-of-type {\n",
       "        vertical-align: middle;\n",
       "    }\n",
       "\n",
       "    .dataframe tbody tr th {\n",
       "        vertical-align: top;\n",
       "    }\n",
       "\n",
       "    .dataframe thead th {\n",
       "        text-align: right;\n",
       "    }\n",
       "</style>\n",
       "<table border=\"1\" class=\"dataframe\">\n",
       "  <thead>\n",
       "    <tr style=\"text-align: right;\">\n",
       "      <th></th>\n",
       "      <th>values_populacao</th>\n",
       "    </tr>\n",
       "  </thead>\n",
       "  <tbody>\n",
       "    <tr>\n",
       "      <th>0</th>\n",
       "      <td>1</td>\n",
       "    </tr>\n",
       "    <tr>\n",
       "      <th>11</th>\n",
       "      <td>12</td>\n",
       "    </tr>\n",
       "    <tr>\n",
       "      <th>4</th>\n",
       "      <td>5</td>\n",
       "    </tr>\n",
       "    <tr>\n",
       "      <th>6</th>\n",
       "      <td>7</td>\n",
       "    </tr>\n",
       "  </tbody>\n",
       "</table>\n",
       "</div>"
      ],
      "text/plain": [
       "    values_populacao\n",
       "0                  1\n",
       "11                12\n",
       "4                  5\n",
       "6                  7"
      ]
     },
     "execution_count": 4,
     "metadata": {},
     "output_type": "execute_result"
    }
   ],
   "source": [
    "df.sample(n = 4)"
   ]
  },
  {
   "cell_type": "code",
   "execution_count": 5,
   "id": "ef2d152f",
   "metadata": {
    "scrolled": true
   },
   "outputs": [
    {
     "data": {
      "text/html": [
       "<div>\n",
       "<style scoped>\n",
       "    .dataframe tbody tr th:only-of-type {\n",
       "        vertical-align: middle;\n",
       "    }\n",
       "\n",
       "    .dataframe tbody tr th {\n",
       "        vertical-align: top;\n",
       "    }\n",
       "\n",
       "    .dataframe thead th {\n",
       "        text-align: right;\n",
       "    }\n",
       "</style>\n",
       "<table border=\"1\" class=\"dataframe\">\n",
       "  <thead>\n",
       "    <tr style=\"text-align: right;\">\n",
       "      <th></th>\n",
       "      <th>values_populacao</th>\n",
       "    </tr>\n",
       "  </thead>\n",
       "  <tbody>\n",
       "    <tr>\n",
       "      <th>4</th>\n",
       "      <td>5</td>\n",
       "    </tr>\n",
       "    <tr>\n",
       "      <th>11</th>\n",
       "      <td>12</td>\n",
       "    </tr>\n",
       "    <tr>\n",
       "      <th>5</th>\n",
       "      <td>6</td>\n",
       "    </tr>\n",
       "    <tr>\n",
       "      <th>1</th>\n",
       "      <td>2</td>\n",
       "    </tr>\n",
       "    <tr>\n",
       "      <th>9</th>\n",
       "      <td>10</td>\n",
       "    </tr>\n",
       "  </tbody>\n",
       "</table>\n",
       "</div>"
      ],
      "text/plain": [
       "    values_populacao\n",
       "4                  5\n",
       "11                12\n",
       "5                  6\n",
       "1                  2\n",
       "9                 10"
      ]
     },
     "execution_count": 5,
     "metadata": {},
     "output_type": "execute_result"
    }
   ],
   "source": [
    "df.sample(n = 5)"
   ]
  },
  {
   "cell_type": "code",
   "execution_count": 6,
   "id": "09f7d3e3",
   "metadata": {},
   "outputs": [
    {
     "data": {
      "text/html": [
       "<div>\n",
       "<style scoped>\n",
       "    .dataframe tbody tr th:only-of-type {\n",
       "        vertical-align: middle;\n",
       "    }\n",
       "\n",
       "    .dataframe tbody tr th {\n",
       "        vertical-align: top;\n",
       "    }\n",
       "\n",
       "    .dataframe thead th {\n",
       "        text-align: right;\n",
       "    }\n",
       "</style>\n",
       "<table border=\"1\" class=\"dataframe\">\n",
       "  <thead>\n",
       "    <tr style=\"text-align: right;\">\n",
       "      <th></th>\n",
       "      <th>values_populacao</th>\n",
       "    </tr>\n",
       "  </thead>\n",
       "  <tbody>\n",
       "    <tr>\n",
       "      <th>4</th>\n",
       "      <td>5</td>\n",
       "    </tr>\n",
       "    <tr>\n",
       "      <th>3</th>\n",
       "      <td>4</td>\n",
       "    </tr>\n",
       "    <tr>\n",
       "      <th>8</th>\n",
       "      <td>9</td>\n",
       "    </tr>\n",
       "    <tr>\n",
       "      <th>2</th>\n",
       "      <td>3</td>\n",
       "    </tr>\n",
       "    <tr>\n",
       "      <th>10</th>\n",
       "      <td>11</td>\n",
       "    </tr>\n",
       "  </tbody>\n",
       "</table>\n",
       "</div>"
      ],
      "text/plain": [
       "    values_populacao\n",
       "4                  5\n",
       "3                  4\n",
       "8                  9\n",
       "2                  3\n",
       "10                11"
      ]
     },
     "execution_count": 6,
     "metadata": {},
     "output_type": "execute_result"
    }
   ],
   "source": [
    "df.sample(frac = 0.44)"
   ]
  },
  {
   "cell_type": "markdown",
   "id": "b489428b",
   "metadata": {},
   "source": [
    "Amostragem Sistemática, pegando a terceira ocorrência de uma população. Usando o python:\n"
   ]
  },
  {
   "cell_type": "code",
   "execution_count": 7,
   "id": "525231f3",
   "metadata": {},
   "outputs": [],
   "source": [
    "import numpy as np"
   ]
  },
  {
   "cell_type": "code",
   "execution_count": 8,
   "id": "3ca0bbfa",
   "metadata": {},
   "outputs": [],
   "source": [
    "lengthPopulacao = len(populacao)"
   ]
  },
  {
   "cell_type": "code",
   "execution_count": 9,
   "id": "75f3ae90",
   "metadata": {},
   "outputs": [
    {
     "data": {
      "text/plain": [
       "12"
      ]
     },
     "execution_count": 9,
     "metadata": {},
     "output_type": "execute_result"
    }
   ],
   "source": [
    "lengthPopulacao # Output"
   ]
  },
  {
   "cell_type": "code",
   "execution_count": 10,
   "id": "1349cad7",
   "metadata": {},
   "outputs": [
    {
     "name": "stdout",
     "output_type": "stream",
     "text": [
      "1\n",
      "4\n",
      "7\n",
      "10\n"
     ]
    }
   ],
   "source": [
    "for i in range(1, lengthPopulacao, 3):\n",
    "    print(i)"
   ]
  },
  {
   "cell_type": "code",
   "execution_count": 11,
   "id": "6049085f",
   "metadata": {},
   "outputs": [],
   "source": [
    "amostra_python = []\n",
    "for i in range(1, lengthPopulacao, 3):\n",
    "    amostra_python.append(populacao[i])"
   ]
  },
  {
   "cell_type": "code",
   "execution_count": 12,
   "id": "a6dc4b6e",
   "metadata": {},
   "outputs": [
    {
     "data": {
      "text/plain": [
       "[2, 5, 8, 11]"
      ]
     },
     "execution_count": 12,
     "metadata": {},
     "output_type": "execute_result"
    }
   ],
   "source": [
    "amostra_python # Output"
   ]
  },
  {
   "cell_type": "markdown",
   "id": "cfa5387a",
   "metadata": {},
   "source": [
    "No pandas, a lógica é amesma. Utilizo índices do pandas para filtrar somente as posições que queremos: "
   ]
  },
  {
   "cell_type": "code",
   "execution_count": 13,
   "id": "cae9af64",
   "metadata": {},
   "outputs": [],
   "source": [
    "def amostragemSistematica(df, inicio = 0, step = 3):\n",
    "    indexes = np.arange(inicio, df.shape[0], step = step) # do NumPy para criar uma sequência de índices que serão utilizados para selecionar as linhas do DataFrame de forma sistemática.\n",
    "    amostra = df.iloc[indexes]\n",
    "    return amostra"
   ]
  },
  {
   "cell_type": "code",
   "execution_count": 14,
   "id": "055b0825",
   "metadata": {},
   "outputs": [
    {
     "data": {
      "text/html": [
       "<div>\n",
       "<style scoped>\n",
       "    .dataframe tbody tr th:only-of-type {\n",
       "        vertical-align: middle;\n",
       "    }\n",
       "\n",
       "    .dataframe tbody tr th {\n",
       "        vertical-align: top;\n",
       "    }\n",
       "\n",
       "    .dataframe thead th {\n",
       "        text-align: right;\n",
       "    }\n",
       "</style>\n",
       "<table border=\"1\" class=\"dataframe\">\n",
       "  <thead>\n",
       "    <tr style=\"text-align: right;\">\n",
       "      <th></th>\n",
       "      <th>values_populacao</th>\n",
       "    </tr>\n",
       "  </thead>\n",
       "  <tbody>\n",
       "    <tr>\n",
       "      <th>1</th>\n",
       "      <td>2</td>\n",
       "    </tr>\n",
       "    <tr>\n",
       "      <th>4</th>\n",
       "      <td>5</td>\n",
       "    </tr>\n",
       "    <tr>\n",
       "      <th>7</th>\n",
       "      <td>8</td>\n",
       "    </tr>\n",
       "    <tr>\n",
       "      <th>10</th>\n",
       "      <td>11</td>\n",
       "    </tr>\n",
       "  </tbody>\n",
       "</table>\n",
       "</div>"
      ],
      "text/plain": [
       "    values_populacao\n",
       "1                  2\n",
       "4                  5\n",
       "7                  8\n",
       "10                11"
      ]
     },
     "execution_count": 14,
     "metadata": {},
     "output_type": "execute_result"
    }
   ],
   "source": [
    "amostragemSistematica(df, 1, 3)"
   ]
  },
  {
   "cell_type": "markdown",
   "id": "27ef9dca",
   "metadata": {},
   "source": [
    "Exercício: Amostragem Aleatória Simples\n",
    "\n",
    "Imagine que você está conduzindo uma pesquisa em uma escola para determinar a opinião dos alunos sobre a qualidade da merenda escolar. Você deseja realizar uma amostragem aleatória simples para selecionar 20 alunos dentre os 200 alunos da escola.\n",
    "\n",
    "Crie um DataFrame chamado dados_escola contendo duas colunas: \"Aluno\" e \"Opiniao\". A coluna \"Aluno\" deve conter uma lista de strings com os nomes dos alunos (por exemplo, \"Aluno 1\", \"Aluno 2\", etc.), e a coluna \"Opiniao\" deve conter uma lista de valores inteiros (1 para opinião positiva e 0 para opinião negativa).\n",
    "\n",
    "Escreva uma função chamada amostra_aleatoria_simples que receba o DataFrame dados_escola e o tamanho da amostra desejada (por exemplo, 20). A função deve retornar uma amostra aleatória simples contendo o número de alunos especificado.\n",
    "\n",
    "Teste sua função usando o DataFrame dados_escola que você criou e imprima a amostra resultante.\n"
   ]
  },
  {
   "cell_type": "code",
   "execution_count": 15,
   "id": "f9cfb2cf",
   "metadata": {},
   "outputs": [],
   "source": [
    "import random \n",
    "\n",
    "\n",
    "nomes = [\"João\", \"Maria\", \"Pedro\", \"Ana\", \"Lucas\", \"Laura\", \"Carlos\", \"Mariana\", \"Paulo\", \"Julia\",\n",
    "                   \"Rafael\", \"Camila\", \"Diego\", \"Isabela\", \"Felipe\", \"Bianca\", \"Fernando\", \"Gabriela\", \"Henrique\",\n",
    "                   \"Natália\", \"Arthur\", \"Sofia\", \"Luisa\", \"Vitor\", \"Manuela\", \"Gustavo\", \"Clara\", \"Matheus\", \"Helena\",\n",
    "                   \"Rodrigo\", \"Larissa\", \"Luciano\", \"Luana\", \"Leonardo\", \"Amanda\", \"Ricardo\", \"Letícia\", \"Renato\",\n",
    "                   \"Alice\", \"Cesar\", \"Valentina\", \"Marcelo\", \"Isadora\", \"Guilherme\", \"Mirella\", \"Daniel\", \"Eduarda\",\n",
    "                   \"Roberto\", \"Carolina\", \"Hugo\", \"Beatriz\", \"Sergio\", \"Júlia\", \"Igor\", \"Lorena\", \"Vinicius\", \"Vivian\",\n",
    "                   \"Marcela\", \"Fábio\", \"Tatiana\", \"Alex\", \"Mariane\", \"Samuel\", \"Larissa\", \"Raul\", \"Natasha\", \"Pedro\",\n",
    "                   \"Laís\", \"Wagner\", \"Adriana\", \"Tiago\", \"Cintia\", \"Eduardo\", \"Patrícia\", \"Diego\", \"Fernanda\", \"Vagner\",\n",
    "                   \"Priscila\", \"Felipe\", \"Aline\", \"Marcos\", \"Cristina\", \"Jorge\", \"Cecília\", \"Rafael\", \"Cássia\", \"Gabriel\",\n",
    "                   \"Roberta\", \"Ramon\", \"Carla\", \"Thiago\", \"Talita\", \"Caio\", \"Juliana\", \"Cleiton\", \"Marina\", \"Renan\",\n",
    "                   \"Lilian\", \"Bruno\", \"Caroline\"]"
   ]
  },
  {
   "cell_type": "code",
   "execution_count": 16,
   "id": "cfd642e8",
   "metadata": {},
   "outputs": [],
   "source": [
    "opinioes = [random.choice([1, 0]) for _ in range(100)]"
   ]
  },
  {
   "cell_type": "code",
   "execution_count": 17,
   "id": "3d822a08",
   "metadata": {},
   "outputs": [
    {
     "data": {
      "text/html": [
       "<div>\n",
       "<style scoped>\n",
       "    .dataframe tbody tr th:only-of-type {\n",
       "        vertical-align: middle;\n",
       "    }\n",
       "\n",
       "    .dataframe tbody tr th {\n",
       "        vertical-align: top;\n",
       "    }\n",
       "\n",
       "    .dataframe thead th {\n",
       "        text-align: right;\n",
       "    }\n",
       "</style>\n",
       "<table border=\"1\" class=\"dataframe\">\n",
       "  <thead>\n",
       "    <tr style=\"text-align: right;\">\n",
       "      <th></th>\n",
       "      <th>alunos</th>\n",
       "      <th>opinioes</th>\n",
       "    </tr>\n",
       "  </thead>\n",
       "  <tbody>\n",
       "    <tr>\n",
       "      <th>0</th>\n",
       "      <td>João</td>\n",
       "      <td>0</td>\n",
       "    </tr>\n",
       "    <tr>\n",
       "      <th>1</th>\n",
       "      <td>Maria</td>\n",
       "      <td>1</td>\n",
       "    </tr>\n",
       "    <tr>\n",
       "      <th>2</th>\n",
       "      <td>Pedro</td>\n",
       "      <td>0</td>\n",
       "    </tr>\n",
       "    <tr>\n",
       "      <th>3</th>\n",
       "      <td>Ana</td>\n",
       "      <td>1</td>\n",
       "    </tr>\n",
       "    <tr>\n",
       "      <th>4</th>\n",
       "      <td>Lucas</td>\n",
       "      <td>1</td>\n",
       "    </tr>\n",
       "    <tr>\n",
       "      <th>...</th>\n",
       "      <td>...</td>\n",
       "      <td>...</td>\n",
       "    </tr>\n",
       "    <tr>\n",
       "      <th>95</th>\n",
       "      <td>Marina</td>\n",
       "      <td>0</td>\n",
       "    </tr>\n",
       "    <tr>\n",
       "      <th>96</th>\n",
       "      <td>Renan</td>\n",
       "      <td>1</td>\n",
       "    </tr>\n",
       "    <tr>\n",
       "      <th>97</th>\n",
       "      <td>Lilian</td>\n",
       "      <td>0</td>\n",
       "    </tr>\n",
       "    <tr>\n",
       "      <th>98</th>\n",
       "      <td>Bruno</td>\n",
       "      <td>1</td>\n",
       "    </tr>\n",
       "    <tr>\n",
       "      <th>99</th>\n",
       "      <td>Caroline</td>\n",
       "      <td>1</td>\n",
       "    </tr>\n",
       "  </tbody>\n",
       "</table>\n",
       "<p>100 rows × 2 columns</p>\n",
       "</div>"
      ],
      "text/plain": [
       "      alunos  opinioes\n",
       "0       João         0\n",
       "1      Maria         1\n",
       "2      Pedro         0\n",
       "3        Ana         1\n",
       "4      Lucas         1\n",
       "..       ...       ...\n",
       "95    Marina         0\n",
       "96     Renan         1\n",
       "97    Lilian         0\n",
       "98     Bruno         1\n",
       "99  Caroline         1\n",
       "\n",
       "[100 rows x 2 columns]"
      ]
     },
     "execution_count": 17,
     "metadata": {},
     "output_type": "execute_result"
    }
   ],
   "source": [
    "dadosEscola = pandas.DataFrame({\"alunos\": nomes, \"opinioes\": opinioes})\n",
    "dadosEscola"
   ]
  },
  {
   "cell_type": "code",
   "execution_count": 18,
   "id": "f591bead",
   "metadata": {},
   "outputs": [
    {
     "data": {
      "text/html": [
       "<div>\n",
       "<style scoped>\n",
       "    .dataframe tbody tr th:only-of-type {\n",
       "        vertical-align: middle;\n",
       "    }\n",
       "\n",
       "    .dataframe tbody tr th {\n",
       "        vertical-align: top;\n",
       "    }\n",
       "\n",
       "    .dataframe thead th {\n",
       "        text-align: right;\n",
       "    }\n",
       "</style>\n",
       "<table border=\"1\" class=\"dataframe\">\n",
       "  <thead>\n",
       "    <tr style=\"text-align: right;\">\n",
       "      <th></th>\n",
       "      <th>alunos</th>\n",
       "      <th>opinioes</th>\n",
       "    </tr>\n",
       "  </thead>\n",
       "  <tbody>\n",
       "    <tr>\n",
       "      <th>0</th>\n",
       "      <td>Cássia</td>\n",
       "      <td>1</td>\n",
       "    </tr>\n",
       "    <tr>\n",
       "      <th>1</th>\n",
       "      <td>Gustavo</td>\n",
       "      <td>1</td>\n",
       "    </tr>\n",
       "    <tr>\n",
       "      <th>2</th>\n",
       "      <td>Beatriz</td>\n",
       "      <td>1</td>\n",
       "    </tr>\n",
       "    <tr>\n",
       "      <th>3</th>\n",
       "      <td>Gabriela</td>\n",
       "      <td>1</td>\n",
       "    </tr>\n",
       "    <tr>\n",
       "      <th>4</th>\n",
       "      <td>Tiago</td>\n",
       "      <td>0</td>\n",
       "    </tr>\n",
       "    <tr>\n",
       "      <th>5</th>\n",
       "      <td>Eduarda</td>\n",
       "      <td>0</td>\n",
       "    </tr>\n",
       "    <tr>\n",
       "      <th>6</th>\n",
       "      <td>Laura</td>\n",
       "      <td>0</td>\n",
       "    </tr>\n",
       "    <tr>\n",
       "      <th>7</th>\n",
       "      <td>Guilherme</td>\n",
       "      <td>1</td>\n",
       "    </tr>\n",
       "    <tr>\n",
       "      <th>8</th>\n",
       "      <td>Natália</td>\n",
       "      <td>1</td>\n",
       "    </tr>\n",
       "    <tr>\n",
       "      <th>9</th>\n",
       "      <td>Marina</td>\n",
       "      <td>0</td>\n",
       "    </tr>\n",
       "    <tr>\n",
       "      <th>10</th>\n",
       "      <td>Letícia</td>\n",
       "      <td>1</td>\n",
       "    </tr>\n",
       "    <tr>\n",
       "      <th>11</th>\n",
       "      <td>Alice</td>\n",
       "      <td>0</td>\n",
       "    </tr>\n",
       "    <tr>\n",
       "      <th>12</th>\n",
       "      <td>Carlos</td>\n",
       "      <td>0</td>\n",
       "    </tr>\n",
       "    <tr>\n",
       "      <th>13</th>\n",
       "      <td>Henrique</td>\n",
       "      <td>0</td>\n",
       "    </tr>\n",
       "    <tr>\n",
       "      <th>14</th>\n",
       "      <td>Luana</td>\n",
       "      <td>1</td>\n",
       "    </tr>\n",
       "    <tr>\n",
       "      <th>15</th>\n",
       "      <td>Cristina</td>\n",
       "      <td>1</td>\n",
       "    </tr>\n",
       "    <tr>\n",
       "      <th>16</th>\n",
       "      <td>Leonardo</td>\n",
       "      <td>0</td>\n",
       "    </tr>\n",
       "    <tr>\n",
       "      <th>17</th>\n",
       "      <td>Mariana</td>\n",
       "      <td>0</td>\n",
       "    </tr>\n",
       "    <tr>\n",
       "      <th>18</th>\n",
       "      <td>Caio</td>\n",
       "      <td>1</td>\n",
       "    </tr>\n",
       "    <tr>\n",
       "      <th>19</th>\n",
       "      <td>Felipe</td>\n",
       "      <td>1</td>\n",
       "    </tr>\n",
       "  </tbody>\n",
       "</table>\n",
       "</div>"
      ],
      "text/plain": [
       "       alunos  opinioes\n",
       "0      Cássia         1\n",
       "1     Gustavo         1\n",
       "2     Beatriz         1\n",
       "3    Gabriela         1\n",
       "4       Tiago         0\n",
       "5     Eduarda         0\n",
       "6       Laura         0\n",
       "7   Guilherme         1\n",
       "8     Natália         1\n",
       "9      Marina         0\n",
       "10    Letícia         1\n",
       "11      Alice         0\n",
       "12     Carlos         0\n",
       "13   Henrique         0\n",
       "14      Luana         1\n",
       "15   Cristina         1\n",
       "16   Leonardo         0\n",
       "17    Mariana         0\n",
       "18       Caio         1\n",
       "19     Felipe         1"
      ]
     },
     "execution_count": 18,
     "metadata": {},
     "output_type": "execute_result"
    }
   ],
   "source": [
    "dadosEscola.sample(n = 20).reset_index(drop=True)"
   ]
  }
 ],
 "metadata": {
  "kernelspec": {
   "display_name": "Python 3 (ipykernel)",
   "language": "python",
   "name": "python3"
  },
  "language_info": {
   "codemirror_mode": {
    "name": "ipython",
    "version": 3
   },
   "file_extension": ".py",
   "mimetype": "text/x-python",
   "name": "python",
   "nbconvert_exporter": "python",
   "pygments_lexer": "ipython3",
   "version": "3.9.13"
  }
 },
 "nbformat": 4,
 "nbformat_minor": 5
}
